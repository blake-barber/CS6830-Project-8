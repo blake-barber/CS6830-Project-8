{
 "cells": [
  {
   "cell_type": "markdown",
   "metadata": {},
   "source": [
    "# Decision Trees"
   ]
  },
  {
   "cell_type": "code",
   "execution_count": null,
   "metadata": {},
   "outputs": [],
   "source": [
    "import pandas as pd\n",
    "import numpy as np\n",
    "from sklearn.neighbors import NearestNeighbors\n",
    "import random\n",
    "from sklearn.tree import export_graphviz\n",
    "from IPython.display import SVG\n",
    "# You may need to install the Python graphviz library. At the command line:\n",
    "#   pip install graphviz\n",
    "# You will also need to install the graphviz executables. You can use apt,\n",
    "# macports, or other installer for your system.\n",
    "from graphviz import Source\n",
    "\n",
    "import matplotlib.pyplot as plt"
   ]
  },
  {
   "cell_type": "code",
   "execution_count": null,
   "metadata": {},
   "outputs": [],
   "source": [
    "# Comma-separated values\n",
    "heart = pd.read_csv('')\n",
    "\n",
    "# create a list of feature columns\n",
    "feature_cols = ['']\n",
    "\n",
    "# define X and y\n",
    "X = \n",
    "y = \n",
    "\n",
    "# fit a classification tree with max_depth=3 on all data\n",
    "from sklearn.tree import DecisionTreeClassifier\n",
    "from sklearn import tree\n",
    "treeclf = DecisionTreeClassifier(max_depth=5, random_state=1)\n",
    "treeclf.fit(X, y)\n",
    "\n",
    "# # create a Graphviz file\n",
    "# with open(\"heart.dot\", 'w') as f:\n",
    "#     f = export_graphviz(treeclf, out_file=f, feature_names=feature_cols, class_names=['0', '1'], filled = True)\n",
    "\n",
    "graph = Source(tree.export_graphviz(treeclf, out_file=None,\n",
    "                                    feature_names=feature_cols,\n",
    "#                                     class_names=['0', '1'], filled = True))\n",
    "                                    class_names=['0', '1', '2', '3', '4'], filled = True))\n",
    "svg = SVG(graph.pipe(format='svg'))\n",
    "display(svg)\n",
    "\n",
    "# Get a random sample to see how it does\n",
    "n = \n",
    "# i = random.randint(0, n)\n",
    "i = 254 # an interesting case\n",
    "# i = 15 # an interesting case\n",
    "sample = \n",
    "print('Sample patient {} to test on. Tree classified as {}'.format(i, treeclf.predict([sample[feature_cols]])))\n",
    "display(sample)"
   ]
  }
 ],
 "metadata": {
  "language_info": {
   "name": "python"
  }
 },
 "nbformat": 4,
 "nbformat_minor": 2
}
