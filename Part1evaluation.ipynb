{
  "nbformat": 4,
  "nbformat_minor": 0,
  "metadata": {
    "colab": {
      "provenance": []
    },
    "kernelspec": {
      "name": "python3",
      "display_name": "Python 3"
    },
    "language_info": {
      "name": "python"
    }
  },
  "cells": [
    {
      "cell_type": "code",
      "execution_count": 1,
      "metadata": {
        "colab": {
          "base_uri": "https://localhost:8080/"
        },
        "id": "Dt2Wwto5kLhd",
        "outputId": "83934a8d-3959-40ee-a8ca-cbcb659b5d5b"
      },
      "outputs": [
        {
          "output_type": "stream",
          "name": "stdout",
          "text": [
            "Collecting ucimlrepo\n",
            "  Downloading ucimlrepo-0.0.6-py3-none-any.whl (8.0 kB)\n",
            "Installing collected packages: ucimlrepo\n",
            "Successfully installed ucimlrepo-0.0.6\n",
            "Index(['radius1', 'texture1', 'perimeter1', 'area1', 'smoothness1',\n",
            "       'compactness1', 'concavity1', 'concave_points1', 'symmetry1',\n",
            "       'fractal_dimension1', 'radius2', 'texture2', 'perimeter2', 'area2',\n",
            "       'smoothness2', 'compactness2', 'concavity2', 'concave_points2',\n",
            "       'symmetry2', 'fractal_dimension2', 'radius3', 'texture3', 'perimeter3',\n",
            "       'area3', 'smoothness3', 'compactness3', 'concavity3', 'concave_points3',\n",
            "       'symmetry3', 'fractal_dimension3'],\n",
            "      dtype='object')\n",
            "Index(['Diagnosis'], dtype='object')\n"
          ]
        }
      ],
      "source": [
        "!pip install ucimlrepo\n",
        "from ucimlrepo import fetch_ucirepo\n",
        "from sklearn import tree\n",
        "from graphviz import Source\n",
        "from sklearn.tree import DecisionTreeClassifier, export_graphviz\n",
        "from IPython.display import SVG\n",
        "import numpy as np\n",
        "import seaborn as sns\n",
        "import matplotlib.pyplot as plt\n",
        "import pandas as pd\n",
        "\n",
        "# fetch dataset\n",
        "breast_cancer_wisconsin_diagnostic = fetch_ucirepo(id=17)\n",
        "\n",
        "# data (as pandas dataframes)\n",
        "X = breast_cancer_wisconsin_diagnostic.data.features\n",
        "y = breast_cancer_wisconsin_diagnostic.data.targets\n",
        "\n",
        "feature_names=X.columns\n",
        "print(feature_names)\n",
        "print(y.columns)\n"
      ]
    },
    {
      "cell_type": "code",
      "source": [
        "from sklearn.metrics import precision_recall_fscore_support\n",
        "\n",
        "treeclf = DecisionTreeClassifier(max_depth=3, random_state=1)\n",
        "treeclf.fit(X, y)\n",
        "dot = tree.export_graphviz(treeclf, out_file=None,\n",
        "                                    feature_names=feature_names,\n",
        "                                    class_names=['M', 'B'], filled = True)\n",
        "y_pred = treeclf.predict(X)\n",
        "\n",
        "p,r,f,s = precision_recall_fscore_support(y, y_pred)\n",
        "display('precision = {}'.format(p))\n",
        "display('recall = {}'.format(r))\n",
        "display('f-score = {}'.format(f))\n",
        "# print(dot)\n",
        "# output dot code to copy/paste into https://dreampuf.github.io/GraphvizOnline"
      ],
      "metadata": {
        "colab": {
          "base_uri": "https://localhost:8080/",
          "height": 71
        },
        "id": "JU5Czq1CkQ9T",
        "outputId": "a2955ae3-9204-4736-ec61-f81e4c3ecc35"
      },
      "execution_count": 2,
      "outputs": [
        {
          "output_type": "display_data",
          "data": {
            "text/plain": [
              "'precision = [0.97783934 0.98076923]'"
            ],
            "application/vnd.google.colaboratory.intrinsic+json": {
              "type": "string"
            }
          },
          "metadata": {}
        },
        {
          "output_type": "display_data",
          "data": {
            "text/plain": [
              "'recall = [0.98879552 0.96226415]'"
            ],
            "application/vnd.google.colaboratory.intrinsic+json": {
              "type": "string"
            }
          },
          "metadata": {}
        },
        {
          "output_type": "display_data",
          "data": {
            "text/plain": [
              "'f-score = [0.98328691 0.97142857]'"
            ],
            "application/vnd.google.colaboratory.intrinsic+json": {
              "type": "string"
            }
          },
          "metadata": {}
        }
      ]
    },
    {
      "cell_type": "code",
      "source": [
        "treeclf = DecisionTreeClassifier(max_depth=5, random_state=1)\n",
        "treeclf.fit(X, y)\n",
        "dot = tree.export_graphviz(treeclf, out_file=None,feature_names=feature_names,\n",
        "                                    class_names=['M', 'B'], filled = True)\n",
        "y_pred = treeclf.predict(X)\n",
        "\n",
        "p,r,f,s = precision_recall_fscore_support(y, y_pred)\n",
        "display('precision = {}'.format(p))\n",
        "display('recall = {}'.format(r))\n",
        "display('f-score = {}'.format(f))"
      ],
      "metadata": {
        "colab": {
          "base_uri": "https://localhost:8080/",
          "height": 71
        },
        "id": "0Fi98uQ6kVov",
        "outputId": "0926d772-a792-4128-d795-15d49226b516"
      },
      "execution_count": 3,
      "outputs": [
        {
          "output_type": "display_data",
          "data": {
            "text/plain": [
              "'precision = [0.99166667 1.        ]'"
            ],
            "application/vnd.google.colaboratory.intrinsic+json": {
              "type": "string"
            }
          },
          "metadata": {}
        },
        {
          "output_type": "display_data",
          "data": {
            "text/plain": [
              "'recall = [1.         0.98584906]'"
            ],
            "application/vnd.google.colaboratory.intrinsic+json": {
              "type": "string"
            }
          },
          "metadata": {}
        },
        {
          "output_type": "display_data",
          "data": {
            "text/plain": [
              "'f-score = [0.9958159  0.99287411]'"
            ],
            "application/vnd.google.colaboratory.intrinsic+json": {
              "type": "string"
            }
          },
          "metadata": {}
        }
      ]
    }
  ]
}